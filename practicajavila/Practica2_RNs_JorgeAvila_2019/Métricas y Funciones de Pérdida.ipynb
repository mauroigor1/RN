{
 "cells": [
  {
   "cell_type": "markdown",
   "metadata": {},
   "source": [
    "# Funciones de pérdida y métricas.\n",
    "### por Jorge Avila | javilac@udec.cl | Departamento de Ingeniería Matemática, Universidad de Concepción."
   ]
  },
  {
   "cell_type": "code",
   "execution_count": 1,
   "metadata": {},
   "outputs": [],
   "source": [
    "from IPython.display import display, Image, SVG, Math, YouTubeVideo, HTML"
   ]
  },
  {
   "cell_type": "code",
   "execution_count": 8,
   "metadata": {},
   "outputs": [
    {
     "data": {
      "text/html": [
       "<img src=\"https://cdn-images-1.medium.com/max/1600/1*pwPIG-GWHyaPVMVGG5OhAQ.gif\"/>"
      ],
      "text/plain": [
       "<IPython.core.display.Image object>"
      ]
     },
     "execution_count": 8,
     "metadata": {},
     "output_type": "execute_result"
    }
   ],
   "source": [
    "Image(url='https://cdn-images-1.medium.com/max/1600/1*pwPIG-GWHyaPVMVGG5OhAQ.gif')"
   ]
  },
  {
   "cell_type": "markdown",
   "metadata": {},
   "source": [
    "***Abstract***\n",
    "Las métricas son importantes para medir el desempeño de un modelo. Las funciones de pérdida permiten tener una medida de error a minimizar. Dependiendo del tipo de problema (clasificación binaria, multi-clase, multi-etiqueta o de regresión) estas pueden varíar. Para cada tipo de problema que encontramos en el aprendizaje supervisado mostraremos qué métricas y funciones de pérdida son las adecuadas, y cómo implementarlas en keras, además de un ejemplo práctico y análisis de los resultados. \n",
    "\n",
    "_Es importante conocer el contexto de nuestro problema antes de escoger una métrica._"
   ]
  },
  {
   "cell_type": "markdown",
   "metadata": {},
   "source": [
    "***IMPORTANTE: En este cuaderno nos enfocaremos netamente en problemas de aprendizaje supervisado***\n",
    "\n",
    "# ¿Qué es una función de pérdida? \n",
    "Una función de pérdida corresponde a la función objetivo que se quiere minimizar en el problema de optimización para ajustar los pesos de la red. Esta función realiza una comparación entre los output reales y los predichos por la red en la etapa de entrenamiento. También se le puede encontrar con el nombre de _Función de costo_\n",
    "\n",
    "**Ejemplos de funciones de pérdida** \n",
    "1. Error cuadrático medio.\n",
    "2. Error absoluto medio. \n",
    "3. Entropía cruzada binaria.\n",
    "4. Entropía cruzada categórica.\n",
    "5. Logaritmo del coseno hiperbólico.\n",
    "\n",
    "https://keras.io/losses/\n",
    "\n",
    "# ¿Qué es una métrica? \n",
    "Una métrica es una función usada para **evaluar el desempeño**  de nuestro modelo. \n",
    "Es bueno mencionar que una métrica es similar a una función de pérdida, pero la diferencia es que la evaluación de la métrica no es usada para entrenar el modelo, a diferencia de la función de pérdida. \n",
    "\n",
    "**Ejemplos de métricas** \n",
    "1. Error cuadrático medio.\n",
    "2. Error absoluto medio.\n",
    "3. Accuracy, Sensitivity, Sensibility. \n",
    "4. Accuracy binario.\n",
    "5. Accuracy categórico. \n",
    "\n",
    "https://keras.io/metrics/\n",
    "$$Función \\hspace{0.1 cm} de \\hspace{0.1 cm} Pérdida \\Longrightarrow Métrica$$\n",
    "\n",
    "## ¿Qué tienen en común las métricas con las funciones de pérdida? \n",
    "* Ambas requieren de los datos de salida reales y predichos por la red. \n",
    "* Ambas me ayudan a medir el desempeño de mi modelo.\n",
    "\n",
    "## ¿Qué cuidado debo tener con las métricas y funciones de pérdida? \n",
    "* Dependiendo de cada tipo de problema, sea de regresión, clasificación binaria, multi clase o multi etiqueta, las métricas y funciones de pérdida pueden variar entre un tipo de problema y otro. \n",
    "* En general, las funciones de pérdida no son transversales a todos los problemas. \n",
    "* Dependiendo del objetivo real el problema a resolver, hay métricas que me pueden servir más que otras. \n"
   ]
  },
  {
   "cell_type": "markdown",
   "metadata": {},
   "source": [
    "# Escogiendo la métrica correcta para mi modelo\n",
    "Ya debemos estar al tanto de que, en el aprendizaje supervisado, podemos abordar problemas de clasificación y regresión. \n",
    "\n",
    "En cada modelo existe una función de pérdida adecuada, función de activación en la capa de salida, y una métrica con la que podemos ir midiendo el desempeño de nuestras predicciones.\n",
    "\n",
    "***¿Cómo elegir la métrica correcta para cada problema?*** \n",
    "Todo depende del tipo de problema que queramos abordar: regresión, clasificación (binaria, multi etiqueta o multi clase).\n",
    "[Basado en este artículo](https://medium.com/usf-msds/choosing-the-right-metric-for-evaluating-machine-learning-models-part-2-86d5649a5428)"
   ]
  },
  {
   "cell_type": "markdown",
   "metadata": {},
   "source": [
    "## Problemas de regresión. \n",
    "\n",
    "La función de pérdida más clásica en problemas de regresión es el Error Cuadrático Medio (Mean Squared Error / MSE).\n",
    "\n",
    "\\begin{equation}\n",
    "\\dfrac{1}{n} \\sum_{j=1}^n(y_j - \\hat{y}_j)^2\n",
    "\\end{equation}\n",
    "\n",
    "Una variante natural de este función es el la raíz del Error Cuadrátivo Medio (Root Mean Squared Error / RMSE). \n",
    "\n",
    "\\begin{equation}\n",
    "\\sqrt{\\dfrac{1}{n} \\sum_{j=1}^n(y_j - \\hat{y}_j)^2}\n",
    "\\end{equation}\n",
    "\n",
    "Y otra es el Error Absoluto Medio (Mean Absolute Error / MAE)\n",
    "\\begin{equation}\n",
    "\\dfrac{1}{n} \\sum_{j=1}^n|y_j - \\hat{y}_j|\n",
    "\\end{equation}\n",
    "\n",
    "Estas funciones de pérdida también son las más usadas como métricas. \n",
    "\n",
    "**En keras**"
   ]
  },
  {
   "cell_type": "code",
   "execution_count": null,
   "metadata": {},
   "outputs": [],
   "source": [
    "# model.compile(loss='mean_squared_error', optimizer='sgd')\n",
    "\n",
    "# model.compile(loss='mean_absolute_error', optimizer='sgd')"
   ]
  },
  {
   "cell_type": "markdown",
   "metadata": {},
   "source": [
    "## Problemas de clasificación.\n",
    "Nos podemos enfrentar a tres tipos de problemas en clasificación: binaria, multi-clase, o multi-etiqueta. Cada uno de ellos ataca problemas distintos en cuanto a su objetivo, pero se abordan de manera bastante similar. Existen diferencias en la función de activación de la última capa, además de la cantidad de neuronas, pero también en las métricas a utilizar para evaluar el desempeño de  cada modelo. \n",
    "\n",
    "Nos enfocaremos principalmente en el problema de clasificación binaria por el momento, pero luego se agregarán los detalles para los demás problemas. \n",
    "\n",
    "Escribiré los nombres en inglés de cada problema para que pueda serle fácil buscar mayor información en internet. "
   ]
  },
  {
   "cell_type": "code",
   "execution_count": 7,
   "metadata": {},
   "outputs": [
    {
     "name": "stdout",
     "output_type": "stream",
     "text": [
      "Ejemplo de un problema de clasificación binaria\n"
     ]
    },
    {
     "data": {
      "text/html": [
       "<img src=\"https://cdn-images-1.medium.com/max/1600/1*bhFifratH9DjKqMBTeQG5A.gif\"/>"
      ],
      "text/plain": [
       "<IPython.core.display.Image object>"
      ]
     },
     "execution_count": 7,
     "metadata": {},
     "output_type": "execute_result"
    }
   ],
   "source": [
    "print('Ejemplo de un problema de clasificación binaria')\n",
    "Image(url='https://cdn-images-1.medium.com/max/1600/1*bhFifratH9DjKqMBTeQG5A.gif')"
   ]
  },
  {
   "cell_type": "markdown",
   "metadata": {},
   "source": [
    "### 1. Binary clasification\n",
    "El problema de clasificación binaria consiste en construir un modelo para predecir una de dos categorías disponibles, por ejemplo, si en una imagen se encuentra un perro o un gato. La red será construida de tal forma que una y sólo una respuesta podrá ser posible.\n",
    "\n",
    "Las métricas más utilizadas en estos casos se obtienen a partir de la **matriz de confusión**. \n",
    "\n",
    "#### ¿Qué es la matriz de confusión?\n",
    "Es una matriz en la que las filas representan las predicciones (predicted), y las columnas los valores reales (ground truth /actual values). En cada componente de la matriz se contabiliza la cantidad de combinaciones obtenidas en lo **Real vs Predicho**. Para el entendimiento siguiente, se asume que una clase será identificada como **Positiva** y otra como la clase **Negativa** (análogo a una clase denotada por $1$, y la otra clase denotada por $0$)"
   ]
  },
  {
   "cell_type": "code",
   "execution_count": 13,
   "metadata": {},
   "outputs": [
    {
     "data": {
      "text/html": [
       "<img src=\"https://cdn-images-1.medium.com/max/800/1*7SgzmX05T81Ojaor9s5HWQ.png\"/>"
      ],
      "text/plain": [
       "<IPython.core.display.Image object>"
      ]
     },
     "execution_count": 13,
     "metadata": {},
     "output_type": "execute_result"
    }
   ],
   "source": [
    "Image(url = 'https://cdn-images-1.medium.com/max/800/1*7SgzmX05T81Ojaor9s5HWQ.png')"
   ]
  },
  {
   "cell_type": "markdown",
   "metadata": {},
   "source": [
    "#### Una matriz de confusión para el caso binario se compone de\n",
    "* TP: True Positives / Verdaderos Positivos. Aquellos valores de la clase 'Positiva' que fueron bien predichos.\n",
    "* TN: True Negatives / Verdaderos Negativos. Aquellos valores de la clase 'Negativa' que fueron bien predichos. \n",
    "* FP: False Positives / Falsos Positivos.  Aquellos valores de la clase 'Positiva' que fueron predichos como 'Negativos'\n",
    "* FN: False Negatives / Falsos Negativos.  Aquellos valores de la clase 'Negativa' que fueron predichos como 'Positivos'"
   ]
  },
  {
   "cell_type": "markdown",
   "metadata": {},
   "source": [
    "Las principal métrica que podemos obtener de esta matriz de confusión es la cantidad de aciertos que hemos tenido sobre el conjunto total de datos. A esto se le llama **Accuracy** \n",
    "\n",
    "$$ Acc = \\dfrac{TP + TN}{TP + TN + FP + FN}$$\n",
    "\n",
    "Otras medidas que podemos sacar de esta matriz son: \n",
    "\n",
    "**Sensitivity/Recall/True Positive Rate** \n",
    "Número de items correctamente identificados como verdaderos positivos sobre el total de positivos. \n",
    "\n",
    "$$\\dfrac{TP}{TP + FP}$$\n",
    "\n",
    "**Specificity/True Negative Rate**\n",
    "Número de items correctamente identificados como verdaderos negativos sobre el total de negativos. \n",
    "\n",
    "$$\\dfrac{TN}{TN + FN}$$\n",
    "\n",
    "**Precision** \n",
    "Números de items correctamente identificadas como positivas sobre el total de positivos. \n",
    "\n",
    "$$\\dfrac{TP}{TP + FP}$$\n",
    "\n",
    "**False Positive Rate/ Type Error I**\n",
    "$$\\dfrac{FP}{FP + TN}$$\n",
    "\n",
    "**False Negative Rate / Type Error II**\n",
    "$$\\dfrac{FN}{FN + TP}$$"
   ]
  },
  {
   "cell_type": "code",
   "execution_count": 14,
   "metadata": {},
   "outputs": [
    {
     "data": {
      "text/html": [
       "<img src=\"https://cdn-images-1.medium.com/max/800/0*EuzJ9ydlpbZrTK5b.\"/>"
      ],
      "text/plain": [
       "<IPython.core.display.Image object>"
      ]
     },
     "execution_count": 14,
     "metadata": {},
     "output_type": "execute_result"
    }
   ],
   "source": [
    "Image(url = 'https://cdn-images-1.medium.com/max/800/0*EuzJ9ydlpbZrTK5b.')"
   ]
  },
  {
   "cell_type": "code",
   "execution_count": 15,
   "metadata": {},
   "outputs": [
    {
     "data": {
      "text/plain": [
       "array([[2, 0],\n",
       "       [1, 2]])"
      ]
     },
     "execution_count": 15,
     "metadata": {},
     "output_type": "execute_result"
    }
   ],
   "source": [
    "from sklearn.metrics import confusion_matrix\n",
    "y_true = [\"cat\", \"ant\", \"cat\", \"cat\", \"ant\"]\n",
    "y_pred = [\"ant\", \"ant\", \"cat\", \"cat\", \"ant\"]\n",
    "confusion_matrix(y_true, y_pred, labels=[\"ant\", \"cat\"])"
   ]
  },
  {
   "cell_type": "markdown",
   "metadata": {},
   "source": [
    "Podrá notar que no es muy atractiva gráficamente la matriz de confusión anterior, ni tampoco clara ante un lector que no está trabajando en el problema ni conoce las clases consideradas. **Debemos ser capaces de entregar nuestros resultados de una forma clara**. "
   ]
  },
  {
   "cell_type": "markdown",
   "metadata": {},
   "source": [
    "#### ¿Qué función de activación debemos usar en la última capa? \n",
    "Lo idóneo para este tipo de problemas es utilizar a función softmax, pues nuestro objetivo es decidir por una de las dos categorías consideradas. \n",
    "\n",
    "\\begin{align}\n",
    "    softmax: \\mathbb{R}^n & \\rightarrow [0,1]^N \\\\\n",
    "             x & \\mapsto softmax(x)_{i} = \\dfrac{exp(x_i)}{\\sum_{j=1}^{N} exp(x_j)}\n",
    "\\end{align}\n",
    "\n",
    "**Observe que la función softmax tiene como salidas $N$ componentes, donde cada componente $i$ corresponde a la exponencial de la componente $i$ de la entrada, dividida por la suma de las exponenciales de cada entrada. Por tanto, es fácil hacer las cuentas y darnos cuenta que la suma de las componente de la softmax es igual a 1.**\n",
    "\n",
    "La función softmax combinará ambas salidas (recuerde tener dos neuronas en la última capa) de modo que en total sumen 1, al igual que una distribución de probabilidad. Por tanto, aquella salida con la _mayor probabilidad_ será la predicción de nuestra red. Por supuesto que hay que tener en consideración que nuestra salida esté modelada como variables dummy en $\\{0,1\\}$"
   ]
  },
  {
   "cell_type": "markdown",
   "metadata": {},
   "source": [
    "### 2. Multi-class\n",
    "En el caso de los problemas multi-clase, la salida puede contener más de una categoría/clase, pero la respuesta será una sola entre todas las opciones. "
   ]
  },
  {
   "cell_type": "code",
   "execution_count": 6,
   "metadata": {},
   "outputs": [
    {
     "name": "stdout",
     "output_type": "stream",
     "text": [
      "Ejemplo de un problema multi-clase\n"
     ]
    },
    {
     "data": {
      "text/html": [
       "<img src=\"https://thumbs.gfycat.com/DeadlyDeafeningAtlanticblackgoby-size_restricted.gif\"/>"
      ],
      "text/plain": [
       "<IPython.core.display.Image object>"
      ]
     },
     "execution_count": 6,
     "metadata": {},
     "output_type": "execute_result"
    }
   ],
   "source": [
    "print('Ejemplo de un problema multi-clase')\n",
    "Image(url='https://thumbs.gfycat.com/DeadlyDeafeningAtlanticblackgoby-size_restricted.gif')"
   ]
  },
  {
   "cell_type": "markdown",
   "metadata": {},
   "source": [
    "#### ¿Qué función de activación debemos usar en la última capa? \n",
    "Responda... softmax\n"
   ]
  },
  {
   "cell_type": "markdown",
   "metadata": {},
   "source": [
    "### 3. Multi-label\n",
    "El caso más general y complicado es cuando se dispone de muchas clases, y está la opción de elegir varias entre ellas. "
   ]
  },
  {
   "cell_type": "code",
   "execution_count": 9,
   "metadata": {},
   "outputs": [
    {
     "data": {
      "text/html": [
       "<img src=\"https://cdn-images-1.medium.com/max/800/1*ejGoIM6k3KmOx2Kq1IE_xw.jpeg\"/>"
      ],
      "text/plain": [
       "<IPython.core.display.Image object>"
      ]
     },
     "execution_count": 9,
     "metadata": {},
     "output_type": "execute_result"
    }
   ],
   "source": [
    "Image(url=\"https://cdn-images-1.medium.com/max/800/1*ejGoIM6k3KmOx2Kq1IE_xw.jpeg\")"
   ]
  },
  {
   "cell_type": "code",
   "execution_count": 10,
   "metadata": {},
   "outputs": [
    {
     "data": {
      "text/html": [
       "<img src=\"https://www.pyimagesearch.com/wp-content/uploads/2018/05/keras_multi_label_animation.gif\"/>"
      ],
      "text/plain": [
       "<IPython.core.display.Image object>"
      ]
     },
     "execution_count": 10,
     "metadata": {},
     "output_type": "execute_result"
    }
   ],
   "source": [
    "Image(url=\"https://www.pyimagesearch.com/wp-content/uploads/2018/05/keras_multi_label_animation.gif\")"
   ]
  },
  {
   "cell_type": "markdown",
   "metadata": {},
   "source": [
    "#### ¿Qué función de activación debemos usar en la última capa? \n",
    "Al usar la función sigmoidal como función de activación en la última capa, y la función de pérdida de entropía cruzada binaria, cada etiqueta será tratada como una clase independiente. "
   ]
  },
  {
   "cell_type": "markdown",
   "metadata": {},
   "source": [
    "# TRABAJAR CON TITANIC"
   ]
  },
  {
   "cell_type": "code",
   "execution_count": null,
   "metadata": {},
   "outputs": [],
   "source": []
  },
  {
   "cell_type": "markdown",
   "metadata": {},
   "source": [
    "# Referencias\n",
    "1. \n",
    "2.   \n",
    "3. \n"
   ]
  },
  {
   "cell_type": "code",
   "execution_count": null,
   "metadata": {},
   "outputs": [],
   "source": []
  }
 ],
 "metadata": {
  "kernelspec": {
   "display_name": "Python 3",
   "language": "python",
   "name": "python3"
  },
  "language_info": {
   "codemirror_mode": {
    "name": "ipython",
    "version": 3
   },
   "file_extension": ".py",
   "mimetype": "text/x-python",
   "name": "python",
   "nbconvert_exporter": "python",
   "pygments_lexer": "ipython3",
   "version": "3.6.5"
  }
 },
 "nbformat": 4,
 "nbformat_minor": 2
}
