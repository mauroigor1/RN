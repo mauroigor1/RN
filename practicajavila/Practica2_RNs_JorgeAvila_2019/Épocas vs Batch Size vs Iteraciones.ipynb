{
 "cells": [
  {
   "cell_type": "markdown",
   "metadata": {},
   "source": [
    "# Epochs vs Batch size vs Iterations \n",
    "### por Jorge Avila | javilac@udec.cl | Departamento de Ingeniería Matemática, Universidad de Concepción."
   ]
  },
  {
   "cell_type": "markdown",
   "metadata": {},
   "source": [
    "***Abstract*** época, tamaño de batch e iteraciones son tres términos muy importantes a la hora de entrenar un modelo. Estos nacen de la necesidad de separar el conjunto de entrenamiento en subconjuntos más pequeños, de modo que se tenga la capacidad computacional para que la red se pueda entrenar. \n",
    "Para entrenar un modelo necesitamos datos, pero también una función de pérdida a minimizar, y aún más importante, un **optimizador**. Para entender estas tres palabras primero debemos entender cómo funciona este último. "
   ]
  },
  {
   "cell_type": "markdown",
   "metadata": {},
   "source": [
    "### Gradient Descent.\n",
    "* Es un algoritmo de optimización iterativo usado en Machine Learning para minimizar una función de pérdida. \n",
    "    1. _Gradient_ se refiere a la tasa de inclinación declinación de una pendiente. \n",
    "    2. _Descent_ se refiere a la instancia de descender.\n",
    "* Este algoritmo tiene un parámetro llamado **learning rate** (tasa de aprendizaje). Cuando la tasa de aprendizaje es pequeña, el algoritmo da pasos pequeños para acercarse al mínimo de la función de pérdida. Cuando la tasa es grande, pasa lo contrario."
   ]
  },
  {
   "cell_type": "code",
   "execution_count": 1,
   "metadata": {},
   "outputs": [
    {
     "data": {
      "text/html": [
       "<img src=\"https://cdn-images-1.medium.com/max/1600/1*pwPIG-GWHyaPVMVGG5OhAQ.gif\"/>"
      ],
      "text/plain": [
       "<IPython.core.display.Image object>"
      ]
     },
     "execution_count": 1,
     "metadata": {},
     "output_type": "execute_result"
    }
   ],
   "source": [
    "from IPython.display import display, Image, SVG, Math, YouTubeVideo, HTML\n",
    "Image(url='https://cdn-images-1.medium.com/max/1600/1*pwPIG-GWHyaPVMVGG5OhAQ.gif')"
   ]
  },
  {
   "cell_type": "markdown",
   "metadata": {},
   "source": [
    "Necesitamos las terminologías de **época, batch size** e **iterations** solamente cuando la cantidad de datos esmuy grande, lo que ocurre el $99.9%$ en Machine Learning, y no es posible pasarle todos los datos de una sola vez a la red (al computador en realidad). Para solucionar esto es que debemos dividir los datos en subconjuntos de datos más pequeños (batches) y entregárselos al computador uno por uno y actualizar los pesos. \n"
   ]
  },
  {
   "cell_type": "markdown",
   "metadata": {},
   "source": [
    "### Veamos ahora a qué se refiere cada término.\n",
    "\n",
    "Una **época** es cuando el conjunto completo de datos de entrenamiento se pasa a la red una sola vez.\n",
    "\n",
    "Como el conjunto completo es usualemente muy grande, este se suele separar en conjuntos más pequeños llamados **batches**. \n",
    "\n",
    "Podrá recordar que la cantidad de épocas que se suele elegir en los entrenamientos es mayor que 1. Pero si ya se pasaron los datos por la red, ¿Por qué habría que volver a pasarlos más veces? esto es necesario debido a que estamos usando una muestra aleatoria y limitada del fenómeno que estamos estudiando (me refiero a los datos). Además, para optimizar la pérdida estamos usando un proceso iterativo (Gradient Descent), por lo tanto, actualizar los pesos de una red sólo una vez no es suficiente. \n",
    "\n",
    "Recordará a qué nos referimos con **underfitting** y **overfitting**. Pues, a _menor número de épocas_, se corre el riesgo de caer en **underfitting** (es decir, un deficiente ajuste de los pesos del modelo para describir el fenómeno estudiado), mientras que a _mayor cantidad de épocas_, corremos el riesgo de que nuestra red memorize los datos de entrenamiento, perdiendo poder de generalización sobre datos nuevos, cayendo en un **overfitting**.\n",
    "\n",
    "\n",
    "** En resumen **\n",
    "Una época es cuando el conjunto completo de entrenamiento se pasa a la red una vez.  Este conjunto completo se separa en subconjuntos más pequeños llamados batches. Las **iteraciones** son el número de batches necesarios para completar una época. \n",
    "\n",
    "***Ejemplo*** \n",
    "Supongamos que tenemos un conjunto para entrenar de $10$ observaciones: \n",
    "\n"
   ]
  },
  {
   "cell_type": "code",
   "execution_count": 26,
   "metadata": {},
   "outputs": [
    {
     "data": {
      "text/html": [
       "<div>\n",
       "<style scoped>\n",
       "    .dataframe tbody tr th:only-of-type {\n",
       "        vertical-align: middle;\n",
       "    }\n",
       "\n",
       "    .dataframe tbody tr th {\n",
       "        vertical-align: top;\n",
       "    }\n",
       "\n",
       "    .dataframe thead th {\n",
       "        text-align: right;\n",
       "    }\n",
       "</style>\n",
       "<table border=\"1\" class=\"dataframe\">\n",
       "  <thead>\n",
       "    <tr style=\"text-align: right;\">\n",
       "      <th></th>\n",
       "      <th>ID</th>\n",
       "      <th>Gender</th>\n",
       "      <th>Salary ($K)</th>\n",
       "      <th>Good Buyer</th>\n",
       "    </tr>\n",
       "  </thead>\n",
       "  <tbody>\n",
       "    <tr>\n",
       "      <th>0</th>\n",
       "      <td>a</td>\n",
       "      <td>F</td>\n",
       "      <td>1</td>\n",
       "      <td>Yes</td>\n",
       "    </tr>\n",
       "    <tr>\n",
       "      <th>1</th>\n",
       "      <td>b</td>\n",
       "      <td>F</td>\n",
       "      <td>1.5</td>\n",
       "      <td>No</td>\n",
       "    </tr>\n",
       "    <tr>\n",
       "      <th>2</th>\n",
       "      <td>c</td>\n",
       "      <td>F</td>\n",
       "      <td>2</td>\n",
       "      <td>Yes</td>\n",
       "    </tr>\n",
       "    <tr>\n",
       "      <th>3</th>\n",
       "      <td>d</td>\n",
       "      <td>F</td>\n",
       "      <td>2.5</td>\n",
       "      <td>Yes</td>\n",
       "    </tr>\n",
       "    <tr>\n",
       "      <th>4</th>\n",
       "      <td>e</td>\n",
       "      <td>M</td>\n",
       "      <td>2.5</td>\n",
       "      <td>Yes</td>\n",
       "    </tr>\n",
       "    <tr>\n",
       "      <th>5</th>\n",
       "      <td>f</td>\n",
       "      <td>F</td>\n",
       "      <td>1.5</td>\n",
       "      <td>No</td>\n",
       "    </tr>\n",
       "    <tr>\n",
       "      <th>6</th>\n",
       "      <td>g</td>\n",
       "      <td>M</td>\n",
       "      <td>1</td>\n",
       "      <td>Yes</td>\n",
       "    </tr>\n",
       "    <tr>\n",
       "      <th>7</th>\n",
       "      <td>h</td>\n",
       "      <td>M</td>\n",
       "      <td>2</td>\n",
       "      <td>Yes</td>\n",
       "    </tr>\n",
       "    <tr>\n",
       "      <th>8</th>\n",
       "      <td>i</td>\n",
       "      <td>M</td>\n",
       "      <td>1.5</td>\n",
       "      <td>Yes</td>\n",
       "    </tr>\n",
       "    <tr>\n",
       "      <th>9</th>\n",
       "      <td>j</td>\n",
       "      <td>M</td>\n",
       "      <td>2.5</td>\n",
       "      <td>Yes</td>\n",
       "    </tr>\n",
       "  </tbody>\n",
       "</table>\n",
       "</div>"
      ],
      "text/plain": [
       "  ID Gender Salary ($K) Good Buyer\n",
       "0  a      F           1        Yes\n",
       "1  b      F         1.5         No\n",
       "2  c      F           2        Yes\n",
       "3  d      F         2.5        Yes\n",
       "4  e      M         2.5        Yes\n",
       "5  f      F         1.5         No\n",
       "6  g      M           1        Yes\n",
       "7  h      M           2        Yes\n",
       "8  i      M         1.5        Yes\n",
       "9  j      M         2.5        Yes"
      ]
     },
     "execution_count": 26,
     "metadata": {},
     "output_type": "execute_result"
    }
   ],
   "source": [
    "import pandas as pd\n",
    "import numpy as np\n",
    "ExampleData = pd.DataFrame({'ID': [\"a\",\"b\",\"c\",\"d\",\"e\",\"f\",\"g\",\"h\",\"i\",\"j\"],\n",
    "            'Gender': np.random.choice(['M','F'],10),\n",
    "            'Salary ($K)': np.random.choice(['1','1.5','2','2.5'],10).tolist(),\n",
    "            'Good Buyer': np.random.choice(['Yes','No'],10).tolist()})\n",
    "\n",
    "ExampleData"
   ]
  },
  {
   "cell_type": "markdown",
   "metadata": {},
   "source": [
    "Una **época** consiste en pasar las $10$ observaciones disponibles a la red. \n",
    "\n",
    "Si suponemos que separamos los datos en dos **batches**, tendríamos: \n"
   ]
  },
  {
   "cell_type": "code",
   "execution_count": 27,
   "metadata": {},
   "outputs": [
    {
     "data": {
      "text/html": [
       "<div>\n",
       "<style scoped>\n",
       "    .dataframe tbody tr th:only-of-type {\n",
       "        vertical-align: middle;\n",
       "    }\n",
       "\n",
       "    .dataframe tbody tr th {\n",
       "        vertical-align: top;\n",
       "    }\n",
       "\n",
       "    .dataframe thead th {\n",
       "        text-align: right;\n",
       "    }\n",
       "</style>\n",
       "<table border=\"1\" class=\"dataframe\">\n",
       "  <thead>\n",
       "    <tr style=\"text-align: right;\">\n",
       "      <th></th>\n",
       "      <th>ID</th>\n",
       "      <th>Gender</th>\n",
       "      <th>Salary ($K)</th>\n",
       "      <th>Good Buyer</th>\n",
       "    </tr>\n",
       "  </thead>\n",
       "  <tbody>\n",
       "    <tr>\n",
       "      <th>0</th>\n",
       "      <td>a</td>\n",
       "      <td>F</td>\n",
       "      <td>1</td>\n",
       "      <td>Yes</td>\n",
       "    </tr>\n",
       "    <tr>\n",
       "      <th>1</th>\n",
       "      <td>b</td>\n",
       "      <td>F</td>\n",
       "      <td>1.5</td>\n",
       "      <td>No</td>\n",
       "    </tr>\n",
       "    <tr>\n",
       "      <th>2</th>\n",
       "      <td>c</td>\n",
       "      <td>F</td>\n",
       "      <td>2</td>\n",
       "      <td>Yes</td>\n",
       "    </tr>\n",
       "    <tr>\n",
       "      <th>3</th>\n",
       "      <td>d</td>\n",
       "      <td>F</td>\n",
       "      <td>2.5</td>\n",
       "      <td>Yes</td>\n",
       "    </tr>\n",
       "    <tr>\n",
       "      <th>4</th>\n",
       "      <td>e</td>\n",
       "      <td>M</td>\n",
       "      <td>2.5</td>\n",
       "      <td>Yes</td>\n",
       "    </tr>\n",
       "  </tbody>\n",
       "</table>\n",
       "</div>"
      ],
      "text/plain": [
       "  ID Gender Salary ($K) Good Buyer\n",
       "0  a      F           1        Yes\n",
       "1  b      F         1.5         No\n",
       "2  c      F           2        Yes\n",
       "3  d      F         2.5        Yes\n",
       "4  e      M         2.5        Yes"
      ]
     },
     "execution_count": 27,
     "metadata": {},
     "output_type": "execute_result"
    }
   ],
   "source": [
    "Batch1 = ExampleData[:5]\n",
    "Batch1"
   ]
  },
  {
   "cell_type": "code",
   "execution_count": 28,
   "metadata": {},
   "outputs": [
    {
     "data": {
      "text/html": [
       "<div>\n",
       "<style scoped>\n",
       "    .dataframe tbody tr th:only-of-type {\n",
       "        vertical-align: middle;\n",
       "    }\n",
       "\n",
       "    .dataframe tbody tr th {\n",
       "        vertical-align: top;\n",
       "    }\n",
       "\n",
       "    .dataframe thead th {\n",
       "        text-align: right;\n",
       "    }\n",
       "</style>\n",
       "<table border=\"1\" class=\"dataframe\">\n",
       "  <thead>\n",
       "    <tr style=\"text-align: right;\">\n",
       "      <th></th>\n",
       "      <th>ID</th>\n",
       "      <th>Gender</th>\n",
       "      <th>Salary ($K)</th>\n",
       "      <th>Good Buyer</th>\n",
       "    </tr>\n",
       "  </thead>\n",
       "  <tbody>\n",
       "    <tr>\n",
       "      <th>5</th>\n",
       "      <td>f</td>\n",
       "      <td>F</td>\n",
       "      <td>1.5</td>\n",
       "      <td>No</td>\n",
       "    </tr>\n",
       "    <tr>\n",
       "      <th>6</th>\n",
       "      <td>g</td>\n",
       "      <td>M</td>\n",
       "      <td>1</td>\n",
       "      <td>Yes</td>\n",
       "    </tr>\n",
       "    <tr>\n",
       "      <th>7</th>\n",
       "      <td>h</td>\n",
       "      <td>M</td>\n",
       "      <td>2</td>\n",
       "      <td>Yes</td>\n",
       "    </tr>\n",
       "    <tr>\n",
       "      <th>8</th>\n",
       "      <td>i</td>\n",
       "      <td>M</td>\n",
       "      <td>1.5</td>\n",
       "      <td>Yes</td>\n",
       "    </tr>\n",
       "    <tr>\n",
       "      <th>9</th>\n",
       "      <td>j</td>\n",
       "      <td>M</td>\n",
       "      <td>2.5</td>\n",
       "      <td>Yes</td>\n",
       "    </tr>\n",
       "  </tbody>\n",
       "</table>\n",
       "</div>"
      ],
      "text/plain": [
       "  ID Gender Salary ($K) Good Buyer\n",
       "5  f      F         1.5         No\n",
       "6  g      M           1        Yes\n",
       "7  h      M           2        Yes\n",
       "8  i      M         1.5        Yes\n",
       "9  j      M         2.5        Yes"
      ]
     },
     "execution_count": 28,
     "metadata": {},
     "output_type": "execute_result"
    }
   ],
   "source": [
    "Batch2 = ExampleData[5:]\n",
    "Batch2"
   ]
  },
  {
   "cell_type": "markdown",
   "metadata": {},
   "source": [
    "Y por lo tanto, para completar una época requerimos $2$ **iteraciones**."
   ]
  },
  {
   "cell_type": "markdown",
   "metadata": {},
   "source": [
    "# Referencias\n",
    "1. https://towardsdatascience.com/epoch-vs-iterations-vs-batch-size-4dfb9c7ce9c9\n",
    "2.   \n",
    "3. \n"
   ]
  },
  {
   "cell_type": "code",
   "execution_count": null,
   "metadata": {},
   "outputs": [],
   "source": []
  }
 ],
 "metadata": {
  "kernelspec": {
   "display_name": "Python 3",
   "language": "python",
   "name": "python3"
  },
  "language_info": {
   "codemirror_mode": {
    "name": "ipython",
    "version": 3
   },
   "file_extension": ".py",
   "mimetype": "text/x-python",
   "name": "python",
   "nbconvert_exporter": "python",
   "pygments_lexer": "ipython3",
   "version": "3.6.5"
  }
 },
 "nbformat": 4,
 "nbformat_minor": 2
}
